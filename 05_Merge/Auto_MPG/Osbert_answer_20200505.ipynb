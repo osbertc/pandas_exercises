{
 "cells": [
  {
   "cell_type": "markdown",
   "metadata": {},
   "source": [
    "# MPG Cars"
   ]
  },
  {
   "cell_type": "markdown",
   "metadata": {},
   "source": [
    "### Introduction:\n",
    "\n",
    "The following exercise utilizes data from [UC Irvine Machine Learning Repository](https://archive.ics.uci.edu/ml/datasets/Auto+MPG)\n",
    "\n",
    "### Step 1. Import the necessary libraries"
   ]
  },
  {
   "cell_type": "code",
   "execution_count": 1,
   "metadata": {
    "collapsed": false
   },
   "outputs": [],
   "source": [
    "import pandas as pd\n",
    "import numpy as np"
   ]
  },
  {
   "cell_type": "markdown",
   "metadata": {},
   "source": [
    "### Step 2. Import the first dataset [cars1](https://raw.githubusercontent.com/guipsamora/pandas_exercises/master/05_Merge/Auto_MPG/cars1.csv) and [cars2](https://raw.githubusercontent.com/guipsamora/pandas_exercises/master/05_Merge/Auto_MPG/cars2.csv).  "
   ]
  },
  {
   "cell_type": "markdown",
   "metadata": {},
   "source": [
    "   ### Step 3. Assign each to a variable called cars1 and cars2"
   ]
  },
  {
   "cell_type": "code",
   "execution_count": 2,
   "metadata": {
    "collapsed": false
   },
   "outputs": [],
   "source": [
    "cars1 = 'https://raw.githubusercontent.com/guipsamora/pandas_exercises/master/05_Merge/Auto_MPG/cars1.csv'\n",
    "cars2 = 'https://raw.githubusercontent.com/guipsamora/pandas_exercises/master/05_Merge/Auto_MPG/cars2.csv'\n",
    "\n",
    "cars1 = pd.read_csv(cars1)\n",
    "cars2 = pd.read_csv(cars2)"
   ]
  },
  {
   "cell_type": "markdown",
   "metadata": {},
   "source": [
    "### Step 4. Oops, it seems our first dataset has some unnamed blank columns, fix cars1"
   ]
  },
  {
   "cell_type": "code",
   "execution_count": 3,
   "metadata": {
    "collapsed": false
   },
   "outputs": [
    {
     "output_type": "execute_result",
     "data": {
      "text/plain": "    mpg  cylinders  displacement horsepower  weight  acceleration  model  \\\n0  18.0          8           307        130    3504          12.0     70   \n1  15.0          8           350        165    3693          11.5     70   \n2  18.0          8           318        150    3436          11.0     70   \n3  16.0          8           304        150    3433          12.0     70   \n4  17.0          8           302        140    3449          10.5     70   \n5  15.0          8           429        198    4341          10.0     70   \n6  14.0          8           454        220    4354           9.0     70   \n7  14.0          8           440        215    4312           8.5     70   \n8  14.0          8           455        225    4425          10.0     70   \n9  15.0          8           390        190    3850           8.5     70   \n\n   origin                        car  \n0       1  chevrolet chevelle malibu  \n1       1          buick skylark 320  \n2       1         plymouth satellite  \n3       1              amc rebel sst  \n4       1                ford torino  \n5       1           ford galaxie 500  \n6       1           chevrolet impala  \n7       1          plymouth fury iii  \n8       1           pontiac catalina  \n9       1         amc ambassador dpl  ",
      "text/html": "<div>\n<style scoped>\n    .dataframe tbody tr th:only-of-type {\n        vertical-align: middle;\n    }\n\n    .dataframe tbody tr th {\n        vertical-align: top;\n    }\n\n    .dataframe thead th {\n        text-align: right;\n    }\n</style>\n<table border=\"1\" class=\"dataframe\">\n  <thead>\n    <tr style=\"text-align: right;\">\n      <th></th>\n      <th>mpg</th>\n      <th>cylinders</th>\n      <th>displacement</th>\n      <th>horsepower</th>\n      <th>weight</th>\n      <th>acceleration</th>\n      <th>model</th>\n      <th>origin</th>\n      <th>car</th>\n    </tr>\n  </thead>\n  <tbody>\n    <tr>\n      <th>0</th>\n      <td>18.0</td>\n      <td>8</td>\n      <td>307</td>\n      <td>130</td>\n      <td>3504</td>\n      <td>12.0</td>\n      <td>70</td>\n      <td>1</td>\n      <td>chevrolet chevelle malibu</td>\n    </tr>\n    <tr>\n      <th>1</th>\n      <td>15.0</td>\n      <td>8</td>\n      <td>350</td>\n      <td>165</td>\n      <td>3693</td>\n      <td>11.5</td>\n      <td>70</td>\n      <td>1</td>\n      <td>buick skylark 320</td>\n    </tr>\n    <tr>\n      <th>2</th>\n      <td>18.0</td>\n      <td>8</td>\n      <td>318</td>\n      <td>150</td>\n      <td>3436</td>\n      <td>11.0</td>\n      <td>70</td>\n      <td>1</td>\n      <td>plymouth satellite</td>\n    </tr>\n    <tr>\n      <th>3</th>\n      <td>16.0</td>\n      <td>8</td>\n      <td>304</td>\n      <td>150</td>\n      <td>3433</td>\n      <td>12.0</td>\n      <td>70</td>\n      <td>1</td>\n      <td>amc rebel sst</td>\n    </tr>\n    <tr>\n      <th>4</th>\n      <td>17.0</td>\n      <td>8</td>\n      <td>302</td>\n      <td>140</td>\n      <td>3449</td>\n      <td>10.5</td>\n      <td>70</td>\n      <td>1</td>\n      <td>ford torino</td>\n    </tr>\n    <tr>\n      <th>5</th>\n      <td>15.0</td>\n      <td>8</td>\n      <td>429</td>\n      <td>198</td>\n      <td>4341</td>\n      <td>10.0</td>\n      <td>70</td>\n      <td>1</td>\n      <td>ford galaxie 500</td>\n    </tr>\n    <tr>\n      <th>6</th>\n      <td>14.0</td>\n      <td>8</td>\n      <td>454</td>\n      <td>220</td>\n      <td>4354</td>\n      <td>9.0</td>\n      <td>70</td>\n      <td>1</td>\n      <td>chevrolet impala</td>\n    </tr>\n    <tr>\n      <th>7</th>\n      <td>14.0</td>\n      <td>8</td>\n      <td>440</td>\n      <td>215</td>\n      <td>4312</td>\n      <td>8.5</td>\n      <td>70</td>\n      <td>1</td>\n      <td>plymouth fury iii</td>\n    </tr>\n    <tr>\n      <th>8</th>\n      <td>14.0</td>\n      <td>8</td>\n      <td>455</td>\n      <td>225</td>\n      <td>4425</td>\n      <td>10.0</td>\n      <td>70</td>\n      <td>1</td>\n      <td>pontiac catalina</td>\n    </tr>\n    <tr>\n      <th>9</th>\n      <td>15.0</td>\n      <td>8</td>\n      <td>390</td>\n      <td>190</td>\n      <td>3850</td>\n      <td>8.5</td>\n      <td>70</td>\n      <td>1</td>\n      <td>amc ambassador dpl</td>\n    </tr>\n  </tbody>\n</table>\n</div>"
     },
     "metadata": {},
     "execution_count": 3
    }
   ],
   "source": [
    "#new_cars1 = cars1.drop(columns=['Unnamed: 9', 'Unnamed: 10','Unnamed: 11', 'Unnamed: 12', 'Unnamed: 13']) \n",
    "#or better practice loc:\n",
    "\n",
    "cars1 = cars1.loc[:, \"mpg\":\"car\"]\n",
    "cars1.head(10)"
   ]
  },
  {
   "cell_type": "code",
   "execution_count": 4,
   "metadata": {},
   "outputs": [
    {
     "output_type": "execute_result",
     "data": {
      "text/plain": "    mpg  cylinders  displacement horsepower  weight  acceleration  model  \\\n0  33.0          4            91         53    1795          17.4     76   \n1  20.0          6           225        100    3651          17.7     76   \n2  18.0          6           250         78    3574          21.0     76   \n3  18.5          6           250        110    3645          16.2     76   \n4  17.5          6           258         95    3193          17.8     76   \n5  29.5          4            97         71    1825          12.2     76   \n6  32.0          4            85         70    1990          17.0     76   \n7  28.0          4            97         75    2155          16.4     76   \n8  26.5          4           140         72    2565          13.6     76   \n9  20.0          4           130        102    3150          15.7     76   \n\n   origin                 car  \n0       3         honda civic  \n1       1      dodge aspen se  \n2       1   ford granada ghia  \n3       1  pontiac ventura sj  \n4       1       amc pacer d/l  \n5       2   volkswagen rabbit  \n6       3        datsun b-210  \n7       3      toyota corolla  \n8       1          ford pinto  \n9       2           volvo 245  ",
      "text/html": "<div>\n<style scoped>\n    .dataframe tbody tr th:only-of-type {\n        vertical-align: middle;\n    }\n\n    .dataframe tbody tr th {\n        vertical-align: top;\n    }\n\n    .dataframe thead th {\n        text-align: right;\n    }\n</style>\n<table border=\"1\" class=\"dataframe\">\n  <thead>\n    <tr style=\"text-align: right;\">\n      <th></th>\n      <th>mpg</th>\n      <th>cylinders</th>\n      <th>displacement</th>\n      <th>horsepower</th>\n      <th>weight</th>\n      <th>acceleration</th>\n      <th>model</th>\n      <th>origin</th>\n      <th>car</th>\n    </tr>\n  </thead>\n  <tbody>\n    <tr>\n      <th>0</th>\n      <td>33.0</td>\n      <td>4</td>\n      <td>91</td>\n      <td>53</td>\n      <td>1795</td>\n      <td>17.4</td>\n      <td>76</td>\n      <td>3</td>\n      <td>honda civic</td>\n    </tr>\n    <tr>\n      <th>1</th>\n      <td>20.0</td>\n      <td>6</td>\n      <td>225</td>\n      <td>100</td>\n      <td>3651</td>\n      <td>17.7</td>\n      <td>76</td>\n      <td>1</td>\n      <td>dodge aspen se</td>\n    </tr>\n    <tr>\n      <th>2</th>\n      <td>18.0</td>\n      <td>6</td>\n      <td>250</td>\n      <td>78</td>\n      <td>3574</td>\n      <td>21.0</td>\n      <td>76</td>\n      <td>1</td>\n      <td>ford granada ghia</td>\n    </tr>\n    <tr>\n      <th>3</th>\n      <td>18.5</td>\n      <td>6</td>\n      <td>250</td>\n      <td>110</td>\n      <td>3645</td>\n      <td>16.2</td>\n      <td>76</td>\n      <td>1</td>\n      <td>pontiac ventura sj</td>\n    </tr>\n    <tr>\n      <th>4</th>\n      <td>17.5</td>\n      <td>6</td>\n      <td>258</td>\n      <td>95</td>\n      <td>3193</td>\n      <td>17.8</td>\n      <td>76</td>\n      <td>1</td>\n      <td>amc pacer d/l</td>\n    </tr>\n    <tr>\n      <th>5</th>\n      <td>29.5</td>\n      <td>4</td>\n      <td>97</td>\n      <td>71</td>\n      <td>1825</td>\n      <td>12.2</td>\n      <td>76</td>\n      <td>2</td>\n      <td>volkswagen rabbit</td>\n    </tr>\n    <tr>\n      <th>6</th>\n      <td>32.0</td>\n      <td>4</td>\n      <td>85</td>\n      <td>70</td>\n      <td>1990</td>\n      <td>17.0</td>\n      <td>76</td>\n      <td>3</td>\n      <td>datsun b-210</td>\n    </tr>\n    <tr>\n      <th>7</th>\n      <td>28.0</td>\n      <td>4</td>\n      <td>97</td>\n      <td>75</td>\n      <td>2155</td>\n      <td>16.4</td>\n      <td>76</td>\n      <td>3</td>\n      <td>toyota corolla</td>\n    </tr>\n    <tr>\n      <th>8</th>\n      <td>26.5</td>\n      <td>4</td>\n      <td>140</td>\n      <td>72</td>\n      <td>2565</td>\n      <td>13.6</td>\n      <td>76</td>\n      <td>1</td>\n      <td>ford pinto</td>\n    </tr>\n    <tr>\n      <th>9</th>\n      <td>20.0</td>\n      <td>4</td>\n      <td>130</td>\n      <td>102</td>\n      <td>3150</td>\n      <td>15.7</td>\n      <td>76</td>\n      <td>2</td>\n      <td>volvo 245</td>\n    </tr>\n  </tbody>\n</table>\n</div>"
     },
     "metadata": {},
     "execution_count": 4
    }
   ],
   "source": [
    "cars2.head(10)"
   ]
  },
  {
   "cell_type": "markdown",
   "metadata": {},
   "source": [
    "### Step 5. What is the number of observations in each dataset?"
   ]
  },
  {
   "cell_type": "code",
   "execution_count": 5,
   "metadata": {
    "collapsed": false
   },
   "outputs": [
    {
     "output_type": "stream",
     "name": "stdout",
     "text": "(198, 9)\n(200, 9)\n"
    }
   ],
   "source": [
    "print(cars1.shape)\n",
    "print(cars2.shape)"
   ]
  },
  {
   "cell_type": "markdown",
   "metadata": {},
   "source": [
    "### Step 6. Join cars1 and cars2 into a single DataFrame called cars"
   ]
  },
  {
   "cell_type": "code",
   "execution_count": 6,
   "metadata": {
    "collapsed": false
   },
   "outputs": [
    {
     "output_type": "execute_result",
     "data": {
      "text/plain": "      mpg  cylinders  displacement horsepower  weight  acceleration  model  \\\n0    18.0          8           307        130    3504          12.0     70   \n1    15.0          8           350        165    3693          11.5     70   \n2    18.0          8           318        150    3436          11.0     70   \n3    16.0          8           304        150    3433          12.0     70   \n4    17.0          8           302        140    3449          10.5     70   \n..    ...        ...           ...        ...     ...           ...    ...   \n393  27.0          4           140         86    2790          15.6     82   \n394  44.0          4            97         52    2130          24.6     82   \n395  32.0          4           135         84    2295          11.6     82   \n396  28.0          4           120         79    2625          18.6     82   \n397  31.0          4           119         82    2720          19.4     82   \n\n     origin                        car  \n0         1  chevrolet chevelle malibu  \n1         1          buick skylark 320  \n2         1         plymouth satellite  \n3         1              amc rebel sst  \n4         1                ford torino  \n..      ...                        ...  \n393       1            ford mustang gl  \n394       2                  vw pickup  \n395       1              dodge rampage  \n396       1                ford ranger  \n397       1                 chevy s-10  \n\n[398 rows x 9 columns]",
      "text/html": "<div>\n<style scoped>\n    .dataframe tbody tr th:only-of-type {\n        vertical-align: middle;\n    }\n\n    .dataframe tbody tr th {\n        vertical-align: top;\n    }\n\n    .dataframe thead th {\n        text-align: right;\n    }\n</style>\n<table border=\"1\" class=\"dataframe\">\n  <thead>\n    <tr style=\"text-align: right;\">\n      <th></th>\n      <th>mpg</th>\n      <th>cylinders</th>\n      <th>displacement</th>\n      <th>horsepower</th>\n      <th>weight</th>\n      <th>acceleration</th>\n      <th>model</th>\n      <th>origin</th>\n      <th>car</th>\n    </tr>\n  </thead>\n  <tbody>\n    <tr>\n      <th>0</th>\n      <td>18.0</td>\n      <td>8</td>\n      <td>307</td>\n      <td>130</td>\n      <td>3504</td>\n      <td>12.0</td>\n      <td>70</td>\n      <td>1</td>\n      <td>chevrolet chevelle malibu</td>\n    </tr>\n    <tr>\n      <th>1</th>\n      <td>15.0</td>\n      <td>8</td>\n      <td>350</td>\n      <td>165</td>\n      <td>3693</td>\n      <td>11.5</td>\n      <td>70</td>\n      <td>1</td>\n      <td>buick skylark 320</td>\n    </tr>\n    <tr>\n      <th>2</th>\n      <td>18.0</td>\n      <td>8</td>\n      <td>318</td>\n      <td>150</td>\n      <td>3436</td>\n      <td>11.0</td>\n      <td>70</td>\n      <td>1</td>\n      <td>plymouth satellite</td>\n    </tr>\n    <tr>\n      <th>3</th>\n      <td>16.0</td>\n      <td>8</td>\n      <td>304</td>\n      <td>150</td>\n      <td>3433</td>\n      <td>12.0</td>\n      <td>70</td>\n      <td>1</td>\n      <td>amc rebel sst</td>\n    </tr>\n    <tr>\n      <th>4</th>\n      <td>17.0</td>\n      <td>8</td>\n      <td>302</td>\n      <td>140</td>\n      <td>3449</td>\n      <td>10.5</td>\n      <td>70</td>\n      <td>1</td>\n      <td>ford torino</td>\n    </tr>\n    <tr>\n      <th>...</th>\n      <td>...</td>\n      <td>...</td>\n      <td>...</td>\n      <td>...</td>\n      <td>...</td>\n      <td>...</td>\n      <td>...</td>\n      <td>...</td>\n      <td>...</td>\n    </tr>\n    <tr>\n      <th>393</th>\n      <td>27.0</td>\n      <td>4</td>\n      <td>140</td>\n      <td>86</td>\n      <td>2790</td>\n      <td>15.6</td>\n      <td>82</td>\n      <td>1</td>\n      <td>ford mustang gl</td>\n    </tr>\n    <tr>\n      <th>394</th>\n      <td>44.0</td>\n      <td>4</td>\n      <td>97</td>\n      <td>52</td>\n      <td>2130</td>\n      <td>24.6</td>\n      <td>82</td>\n      <td>2</td>\n      <td>vw pickup</td>\n    </tr>\n    <tr>\n      <th>395</th>\n      <td>32.0</td>\n      <td>4</td>\n      <td>135</td>\n      <td>84</td>\n      <td>2295</td>\n      <td>11.6</td>\n      <td>82</td>\n      <td>1</td>\n      <td>dodge rampage</td>\n    </tr>\n    <tr>\n      <th>396</th>\n      <td>28.0</td>\n      <td>4</td>\n      <td>120</td>\n      <td>79</td>\n      <td>2625</td>\n      <td>18.6</td>\n      <td>82</td>\n      <td>1</td>\n      <td>ford ranger</td>\n    </tr>\n    <tr>\n      <th>397</th>\n      <td>31.0</td>\n      <td>4</td>\n      <td>119</td>\n      <td>82</td>\n      <td>2720</td>\n      <td>19.4</td>\n      <td>82</td>\n      <td>1</td>\n      <td>chevy s-10</td>\n    </tr>\n  </tbody>\n</table>\n<p>398 rows × 9 columns</p>\n</div>"
     },
     "metadata": {},
     "execution_count": 6
    }
   ],
   "source": [
    "cars = cars1.append(cars2, ignore_index=True, sort=False)\n",
    "cars"
   ]
  },
  {
   "cell_type": "markdown",
   "metadata": {},
   "source": [
    "### Step 7. Oops, there is a column missing, called owners. Create a random number Series from 15,000 to 73,000."
   ]
  },
  {
   "cell_type": "code",
   "execution_count": 7,
   "metadata": {
    "collapsed": false
   },
   "outputs": [
    {
     "output_type": "execute_result",
     "data": {
      "text/plain": "array([29764, 69508, 51994, 64135, 62711, 16691, 41167, 36268, 54905,\n       24989, 64183, 20637, 35312, 48696, 30458, 64521, 34535, 72979,\n       49684, 34088, 21640, 24653, 54416, 62219, 55801, 48314, 53752,\n       28714, 41872, 47858, 25034, 60229, 24230, 58959, 31730, 68895,\n       47569, 71412, 67194, 58620, 45781, 41189, 54339, 70786, 66937,\n       69561, 34823, 51875, 67331, 22959, 37695, 59302, 49418, 16831,\n       72292, 31337, 21647, 32657, 17843, 17862, 36909, 68799, 62082,\n       64546, 61509, 37858, 52471, 67640, 45095, 67890, 37994, 49175,\n       40747, 50257, 68999, 50762, 22401, 35092, 47664, 70055, 46896,\n       57301, 38460, 16191, 41079, 32455, 25444, 43834, 44867, 46000,\n       58650, 43511, 35693, 60680, 28044, 45861, 66974, 39961, 22443,\n       57001, 22366, 68505, 67610, 54915, 16003, 27319, 55711, 47103,\n       56121, 15741, 57139, 33821, 54108, 31607, 57039, 55921, 25109,\n       68275, 52263, 58906, 61590, 57376, 42108, 51347, 72182, 53492,\n       55463, 68319, 15312, 61118, 54883, 27435, 19281, 67497, 52962,\n       43734, 58550, 25056, 38448, 24420, 64414, 19488, 46797, 66387,\n       22504, 54133, 62921, 58471, 15395, 27054, 49990, 45373, 44980,\n       62105, 50531, 41891, 17343, 55029, 50834, 23467, 61371, 23881,\n       21598, 45344, 29683, 63072, 52608, 49398, 60238, 63417, 40840,\n       58136, 46974, 39581, 29903, 32275, 72180, 72242, 39977, 57115,\n       16216, 16873, 67554, 19120, 20221, 24842, 42831, 17547, 16418,\n       61015, 50781, 34362, 25692, 57909, 69319, 20629, 62633, 55473,\n       41417, 52166, 55100, 59081, 37841, 40840, 35403, 63496, 26627,\n       57717, 50748, 19153, 45799, 60243, 39199, 35155, 63097, 39032,\n       55355, 46933, 52233, 30510, 50894, 52013, 17431, 64373, 43094,\n       57129, 18966, 48113, 69152, 58204, 46756, 59595, 25587, 26344,\n       35997, 59284, 49588, 15787, 33166, 26554, 15087, 18019, 17752,\n       39980, 51265, 25739, 47940, 29645, 47720, 65448, 60726, 49821,\n       63345, 15352, 38040, 49190, 39632, 27053, 63394, 24954, 40462,\n       46401, 69672, 35220, 22324, 49979, 67577, 26894, 37328, 49606,\n       26540, 61413, 34979, 43814, 67006, 22825, 27865, 50863, 55869,\n       28222, 48493, 37581, 65154, 42736, 24299, 34048, 62330, 66312,\n       65111, 31209, 49763, 20208, 30586, 61387, 45996, 65172, 39707,\n       25125, 19786, 28588, 72349, 34135, 44857, 42395, 25917, 19388,\n       61738, 69544, 64792, 21741, 55743, 16580, 48817, 54345, 66142,\n       54915, 27866, 69250, 32876, 65289, 34260, 25796, 37921, 42222,\n       50953, 43222, 55257, 55451, 47824, 19528, 50749, 72016, 19984,\n       67833, 24036, 58806, 53953, 40876, 21848, 17159, 55021, 45920,\n       56148, 44653, 26702, 47859, 46208, 58297, 50462, 56228, 28988,\n       64438, 21880, 28858, 60832, 43901, 36069, 21429, 19532, 19566,\n       18357, 34113, 54046, 18352, 68343, 44498, 26179, 19532, 68527,\n       42255, 38545, 31482, 17259, 61066, 27753, 71846, 21820, 72711,\n       54840, 45488, 35417, 55106, 63915, 61749, 20469, 30362, 29743,\n       29999, 33457, 16081, 48208, 44508, 35686, 56106, 70223, 64112,\n       17793, 47590])"
     },
     "metadata": {},
     "execution_count": 7
    }
   ],
   "source": [
    "nr_owners = np.random.randint(15000, high=73001, size=398, dtype='l')\n",
    "nr_owners"
   ]
  },
  {
   "cell_type": "markdown",
   "metadata": {},
   "source": [
    "### Step 8. Add the column owners to cars"
   ]
  },
  {
   "cell_type": "code",
   "execution_count": 9,
   "metadata": {
    "collapsed": false
   },
   "outputs": [
    {
     "output_type": "execute_result",
     "data": {
      "text/plain": "      mpg  cylinders  displacement horsepower  weight  acceleration  model  \\\n393  27.0          4           140         86    2790          15.6     82   \n394  44.0          4            97         52    2130          24.6     82   \n395  32.0          4           135         84    2295          11.6     82   \n396  28.0          4           120         79    2625          18.6     82   \n397  31.0          4           119         82    2720          19.4     82   \n\n     origin              car  nr_owners  \n393       1  ford mustang gl      56106  \n394       2        vw pickup      70223  \n395       1    dodge rampage      64112  \n396       1      ford ranger      17793  \n397       1       chevy s-10      47590  ",
      "text/html": "<div>\n<style scoped>\n    .dataframe tbody tr th:only-of-type {\n        vertical-align: middle;\n    }\n\n    .dataframe tbody tr th {\n        vertical-align: top;\n    }\n\n    .dataframe thead th {\n        text-align: right;\n    }\n</style>\n<table border=\"1\" class=\"dataframe\">\n  <thead>\n    <tr style=\"text-align: right;\">\n      <th></th>\n      <th>mpg</th>\n      <th>cylinders</th>\n      <th>displacement</th>\n      <th>horsepower</th>\n      <th>weight</th>\n      <th>acceleration</th>\n      <th>model</th>\n      <th>origin</th>\n      <th>car</th>\n      <th>nr_owners</th>\n    </tr>\n  </thead>\n  <tbody>\n    <tr>\n      <th>393</th>\n      <td>27.0</td>\n      <td>4</td>\n      <td>140</td>\n      <td>86</td>\n      <td>2790</td>\n      <td>15.6</td>\n      <td>82</td>\n      <td>1</td>\n      <td>ford mustang gl</td>\n      <td>56106</td>\n    </tr>\n    <tr>\n      <th>394</th>\n      <td>44.0</td>\n      <td>4</td>\n      <td>97</td>\n      <td>52</td>\n      <td>2130</td>\n      <td>24.6</td>\n      <td>82</td>\n      <td>2</td>\n      <td>vw pickup</td>\n      <td>70223</td>\n    </tr>\n    <tr>\n      <th>395</th>\n      <td>32.0</td>\n      <td>4</td>\n      <td>135</td>\n      <td>84</td>\n      <td>2295</td>\n      <td>11.6</td>\n      <td>82</td>\n      <td>1</td>\n      <td>dodge rampage</td>\n      <td>64112</td>\n    </tr>\n    <tr>\n      <th>396</th>\n      <td>28.0</td>\n      <td>4</td>\n      <td>120</td>\n      <td>79</td>\n      <td>2625</td>\n      <td>18.6</td>\n      <td>82</td>\n      <td>1</td>\n      <td>ford ranger</td>\n      <td>17793</td>\n    </tr>\n    <tr>\n      <th>397</th>\n      <td>31.0</td>\n      <td>4</td>\n      <td>119</td>\n      <td>82</td>\n      <td>2720</td>\n      <td>19.4</td>\n      <td>82</td>\n      <td>1</td>\n      <td>chevy s-10</td>\n      <td>47590</td>\n    </tr>\n  </tbody>\n</table>\n</div>"
     },
     "metadata": {},
     "execution_count": 9
    }
   ],
   "source": [
    "cars['nr_owners'] = nr_owners\n",
    "cars.tail()"
   ]
  }
 ],
 "metadata": {
  "anaconda-cloud": {},
  "kernelspec": {
   "display_name": "Python 3",
   "language": "python",
   "name": "python3"
  },
  "language_info": {
   "codemirror_mode": {
    "name": "ipython",
    "version": 2
   },
   "file_extension": ".py",
   "mimetype": "text/x-python",
   "name": "python",
   "nbconvert_exporter": "python",
   "pygments_lexer": "ipython2",
   "version": "3.7.7-final"
  }
 },
 "nbformat": 4,
 "nbformat_minor": 0
}